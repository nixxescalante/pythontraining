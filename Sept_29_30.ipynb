{
  "nbformat": 4,
  "nbformat_minor": 0,
  "metadata": {
    "colab": {
      "name": "Sept 29-30.ipynb",
      "provenance": [],
      "collapsed_sections": []
    },
    "kernelspec": {
      "name": "python3",
      "display_name": "Python 3"
    },
    "language_info": {
      "name": "python"
    }
  },
  "cells": [
    {
      "cell_type": "code",
      "metadata": {
        "colab": {
          "base_uri": "https://localhost:8080/"
        },
        "id": "t-TlgRFCZvin",
        "outputId": "bdbe60fe-6003-415c-ed39-60035b2167a7"
      },
      "source": [
        "!pip install apache-airflow"
      ],
      "execution_count": null,
      "outputs": [
        {
          "output_type": "stream",
          "name": "stdout",
          "text": [
            "Requirement already satisfied: apache-airflow in /usr/local/lib/python3.7/dist-packages (2.1.4)\n",
            "Requirement already satisfied: cryptography>=0.9.3 in /usr/local/lib/python3.7/dist-packages (from apache-airflow) (3.4.8)\n",
            "Requirement already satisfied: importlib-resources~=1.4 in /usr/local/lib/python3.7/dist-packages (from apache-airflow) (1.5.0)\n",
            "Requirement already satisfied: iso8601>=0.1.12 in /usr/local/lib/python3.7/dist-packages (from apache-airflow) (0.1.16)\n",
            "Requirement already satisfied: apache-airflow-providers-http in /usr/local/lib/python3.7/dist-packages (from apache-airflow) (2.0.1)\n",
            "Requirement already satisfied: httpx in /usr/local/lib/python3.7/dist-packages (from apache-airflow) (0.19.0)\n",
            "Requirement already satisfied: pygments<3.0,>=2.0.1 in /usr/local/lib/python3.7/dist-packages (from apache-airflow) (2.6.1)\n",
            "Requirement already satisfied: python-nvd3~=0.15.0 in /usr/local/lib/python3.7/dist-packages (from apache-airflow) (0.15.0)\n",
            "Requirement already satisfied: python-daemon>=2.2.4 in /usr/local/lib/python3.7/dist-packages (from apache-airflow) (2.3.0)\n",
            "Requirement already satisfied: python3-openid~=3.2 in /usr/local/lib/python3.7/dist-packages (from apache-airflow) (3.2.0)\n",
            "Requirement already satisfied: dill<0.4,>=0.2.2 in /usr/local/lib/python3.7/dist-packages (from apache-airflow) (0.3.4)\n",
            "Requirement already satisfied: numpy in /usr/local/lib/python3.7/dist-packages (from apache-airflow) (1.19.5)\n",
            "Requirement already satisfied: pyyaml>=5.1 in /usr/local/lib/python3.7/dist-packages (from apache-airflow) (5.4.1)\n",
            "Requirement already satisfied: argcomplete~=1.10 in /usr/local/lib/python3.7/dist-packages (from apache-airflow) (1.12.3)\n",
            "Requirement already satisfied: inflection>=0.3.1 in /usr/local/lib/python3.7/dist-packages (from apache-airflow) (0.5.1)\n",
            "Requirement already satisfied: attrs<21.0,>=20.0 in /usr/local/lib/python3.7/dist-packages (from apache-airflow) (20.3.0)\n",
            "Requirement already satisfied: rich>=9.2.0 in /usr/local/lib/python3.7/dist-packages (from apache-airflow) (10.11.0)\n",
            "Requirement already satisfied: markupsafe<2.0,>=1.1.1 in /usr/local/lib/python3.7/dist-packages (from apache-airflow) (1.1.1)\n",
            "Requirement already satisfied: itsdangerous<2.0,>=1.1.0 in /usr/local/lib/python3.7/dist-packages (from apache-airflow) (1.1.0)\n",
            "Requirement already satisfied: flask-login<0.5,>=0.3 in /usr/local/lib/python3.7/dist-packages (from apache-airflow) (0.4.1)\n",
            "Requirement already satisfied: flask-caching<2.0.0,>=1.5.0 in /usr/local/lib/python3.7/dist-packages (from apache-airflow) (1.10.1)\n",
            "Requirement already satisfied: marshmallow-oneofschema>=2.0.1 in /usr/local/lib/python3.7/dist-packages (from apache-airflow) (3.0.1)\n",
            "Requirement already satisfied: psutil<6.0.0,>=4.2.0 in /usr/local/lib/python3.7/dist-packages (from apache-airflow) (5.4.8)\n",
            "Requirement already satisfied: tenacity~=6.2.0 in /usr/local/lib/python3.7/dist-packages (from apache-airflow) (6.2.0)\n",
            "Requirement already satisfied: unicodecsv>=0.14.1 in /usr/local/lib/python3.7/dist-packages (from apache-airflow) (0.14.1)\n",
            "Requirement already satisfied: tabulate<0.9,>=0.7.5 in /usr/local/lib/python3.7/dist-packages (from apache-airflow) (0.8.9)\n",
            "Requirement already satisfied: graphviz>=0.12 in /usr/local/lib/python3.7/dist-packages (from apache-airflow) (0.17)\n",
            "Requirement already satisfied: apache-airflow-providers-ftp in /usr/local/lib/python3.7/dist-packages (from apache-airflow) (2.0.1)\n",
            "Requirement already satisfied: sqlalchemy>=1.3.18 in /usr/local/lib/python3.7/dist-packages (from apache-airflow) (1.3.24)\n",
            "Requirement already satisfied: werkzeug>=1.0.1,~=1.0 in /usr/local/lib/python3.7/dist-packages (from apache-airflow) (1.0.1)\n",
            "Requirement already satisfied: lazy-object-proxy in /usr/local/lib/python3.7/dist-packages (from apache-airflow) (1.6.0)\n",
            "Requirement already satisfied: croniter<1.1,>=0.3.17 in /usr/local/lib/python3.7/dist-packages (from apache-airflow) (1.0.15)\n",
            "Requirement already satisfied: flask-wtf<0.15,>=0.14.3 in /usr/local/lib/python3.7/dist-packages (from apache-airflow) (0.14.3)\n",
            "Requirement already satisfied: apache-airflow-providers-sqlite in /usr/local/lib/python3.7/dist-packages (from apache-airflow) (2.0.1)\n",
            "Requirement already satisfied: flask<2.0,>=1.1.0 in /usr/local/lib/python3.7/dist-packages (from apache-airflow) (1.1.4)\n",
            "Requirement already satisfied: sqlalchemy-jsonfield~=1.0 in /usr/local/lib/python3.7/dist-packages (from apache-airflow) (1.0.0)\n",
            "Requirement already satisfied: importlib-metadata>=1.7 in /usr/local/lib/python3.7/dist-packages (from apache-airflow) (4.8.1)\n",
            "Requirement already satisfied: clickclick>=1.2 in /usr/local/lib/python3.7/dist-packages (from apache-airflow) (20.10.2)\n",
            "Requirement already satisfied: pandas<2.0,>=0.17.1 in /usr/local/lib/python3.7/dist-packages (from apache-airflow) (1.1.5)\n",
            "Requirement already satisfied: cattrs<1.7.0,~=1.1 in /usr/local/lib/python3.7/dist-packages (from apache-airflow) (1.5.0)\n",
            "Requirement already satisfied: flask-appbuilder<4.0.0,>=3.3.2 in /usr/local/lib/python3.7/dist-packages (from apache-airflow) (3.3.3)\n",
            "Requirement already satisfied: typing-extensions>=3.7.4 in /usr/local/lib/python3.7/dist-packages (from apache-airflow) (3.7.4.3)\n",
            "Requirement already satisfied: alembic<2.0,>=1.2 in /usr/local/lib/python3.7/dist-packages (from apache-airflow) (1.7.3)\n",
            "Requirement already satisfied: gunicorn>=19.5.0 in /usr/local/lib/python3.7/dist-packages (from apache-airflow) (20.1.0)\n",
            "Requirement already satisfied: pyjwt<2 in /usr/local/lib/python3.7/dist-packages (from apache-airflow) (1.7.1)\n",
            "Requirement already satisfied: jsonschema~=3.0 in /usr/local/lib/python3.7/dist-packages (from apache-airflow) (3.2.0)\n",
            "Requirement already satisfied: pendulum~=2.0 in /usr/local/lib/python3.7/dist-packages (from apache-airflow) (2.1.2)\n",
            "Requirement already satisfied: cached-property~=1.5 in /usr/local/lib/python3.7/dist-packages (from apache-airflow) (1.5.2)\n",
            "Requirement already satisfied: lockfile>=0.12.2 in /usr/local/lib/python3.7/dist-packages (from apache-airflow) (0.12.2)\n",
            "Requirement already satisfied: openapi-spec-validator>=0.2.4 in /usr/local/lib/python3.7/dist-packages (from apache-airflow) (0.3.1)\n",
            "Requirement already satisfied: termcolor>=1.1.0 in /usr/local/lib/python3.7/dist-packages (from apache-airflow) (1.1.0)\n",
            "Requirement already satisfied: swagger-ui-bundle>=0.0.2 in /usr/local/lib/python3.7/dist-packages (from apache-airflow) (0.0.9)\n",
            "Requirement already satisfied: blinker in /usr/local/lib/python3.7/dist-packages (from apache-airflow) (1.4)\n",
            "Requirement already satisfied: setproctitle<2,>=1.1.8 in /usr/local/lib/python3.7/dist-packages (from apache-airflow) (1.2.2)\n",
            "Requirement already satisfied: colorlog<6.0,>=4.0.2 in /usr/local/lib/python3.7/dist-packages (from apache-airflow) (5.0.1)\n",
            "Requirement already satisfied: jinja2<4,>=2.10.1 in /usr/local/lib/python3.7/dist-packages (from apache-airflow) (2.11.3)\n",
            "Requirement already satisfied: apache-airflow-providers-imap in /usr/local/lib/python3.7/dist-packages (from apache-airflow) (2.0.1)\n",
            "Requirement already satisfied: python-dateutil<3,>=2.3 in /usr/local/lib/python3.7/dist-packages (from apache-airflow) (2.8.2)\n",
            "Requirement already satisfied: markdown<4.0,>=2.5.2 in /usr/local/lib/python3.7/dist-packages (from apache-airflow) (3.3.4)\n",
            "Requirement already satisfied: python-slugify<5.0,>=3.0.0 in /usr/local/lib/python3.7/dist-packages (from apache-airflow) (4.0.1)\n",
            "Requirement already satisfied: docutils<0.17 in /usr/local/lib/python3.7/dist-packages (from apache-airflow) (0.16)\n",
            "Requirement already satisfied: Mako in /usr/local/lib/python3.7/dist-packages (from alembic<2.0,>=1.2->apache-airflow) (1.1.5)\n",
            "Requirement already satisfied: click>=4.0 in /usr/local/lib/python3.7/dist-packages (from clickclick>=1.2->apache-airflow) (7.1.2)\n",
            "Requirement already satisfied: cffi>=1.12 in /usr/local/lib/python3.7/dist-packages (from cryptography>=0.9.3->apache-airflow) (1.14.6)\n",
            "Requirement already satisfied: pycparser in /usr/local/lib/python3.7/dist-packages (from cffi>=1.12->cryptography>=0.9.3->apache-airflow) (2.20)\n",
            "Requirement already satisfied: sqlalchemy-utils<1,>=0.32.21 in /usr/local/lib/python3.7/dist-packages (from flask-appbuilder<4.0.0,>=3.3.2->apache-airflow) (0.37.8)\n",
            "Requirement already satisfied: Flask-SQLAlchemy<3,>=2.4 in /usr/local/lib/python3.7/dist-packages (from flask-appbuilder<4.0.0,>=3.3.2->apache-airflow) (2.5.1)\n",
            "Requirement already satisfied: Flask-JWT-Extended<4,>=3.18 in /usr/local/lib/python3.7/dist-packages (from flask-appbuilder<4.0.0,>=3.3.2->apache-airflow) (3.25.1)\n",
            "Requirement already satisfied: marshmallow<4,>=3 in /usr/local/lib/python3.7/dist-packages (from flask-appbuilder<4.0.0,>=3.3.2->apache-airflow) (3.13.0)\n",
            "Requirement already satisfied: prison<1.0.0,>=0.2.1 in /usr/local/lib/python3.7/dist-packages (from flask-appbuilder<4.0.0,>=3.3.2->apache-airflow) (0.2.1)\n",
            "Requirement already satisfied: email-validator<2,>=1.0.5 in /usr/local/lib/python3.7/dist-packages (from flask-appbuilder<4.0.0,>=3.3.2->apache-airflow) (1.1.3)\n",
            "Requirement already satisfied: marshmallow-sqlalchemy<0.24.0,>=0.22.0 in /usr/local/lib/python3.7/dist-packages (from flask-appbuilder<4.0.0,>=3.3.2->apache-airflow) (0.23.1)\n",
            "Requirement already satisfied: Flask-OpenID<2,>=1.2.5 in /usr/local/lib/python3.7/dist-packages (from flask-appbuilder<4.0.0,>=3.3.2->apache-airflow) (1.3.0)\n",
            "Requirement already satisfied: colorama<1,>=0.3.9 in /usr/local/lib/python3.7/dist-packages (from flask-appbuilder<4.0.0,>=3.3.2->apache-airflow) (0.4.4)\n",
            "Requirement already satisfied: apispec[yaml]<4,>=3.3 in /usr/local/lib/python3.7/dist-packages (from flask-appbuilder<4.0.0,>=3.3.2->apache-airflow) (3.3.2)\n",
            "Requirement already satisfied: Flask-Babel<2,>=1 in /usr/local/lib/python3.7/dist-packages (from flask-appbuilder<4.0.0,>=3.3.2->apache-airflow) (1.0.0)\n",
            "Requirement already satisfied: marshmallow-enum<2,>=1.5.1 in /usr/local/lib/python3.7/dist-packages (from flask-appbuilder<4.0.0,>=3.3.2->apache-airflow) (1.5.1)\n",
            "Requirement already satisfied: dnspython>=1.15.0 in /usr/local/lib/python3.7/dist-packages (from email-validator<2,>=1.0.5->flask-appbuilder<4.0.0,>=3.3.2->apache-airflow) (2.1.0)\n",
            "Requirement already satisfied: idna>=2.0.0 in /usr/local/lib/python3.7/dist-packages (from email-validator<2,>=1.0.5->flask-appbuilder<4.0.0,>=3.3.2->apache-airflow) (2.10)\n",
            "Requirement already satisfied: pytz in /usr/local/lib/python3.7/dist-packages (from Flask-Babel<2,>=1->flask-appbuilder<4.0.0,>=3.3.2->apache-airflow) (2018.9)\n",
            "Requirement already satisfied: Babel>=2.3 in /usr/local/lib/python3.7/dist-packages (from Flask-Babel<2,>=1->flask-appbuilder<4.0.0,>=3.3.2->apache-airflow) (2.9.1)\n",
            "Requirement already satisfied: six in /usr/local/lib/python3.7/dist-packages (from Flask-JWT-Extended<4,>=3.18->flask-appbuilder<4.0.0,>=3.3.2->apache-airflow) (1.15.0)\n",
            "Requirement already satisfied: WTForms in /usr/local/lib/python3.7/dist-packages (from flask-wtf<0.15,>=0.14.3->apache-airflow) (2.3.3)\n",
            "Requirement already satisfied: setuptools>=3.0 in /usr/local/lib/python3.7/dist-packages (from gunicorn>=19.5.0->apache-airflow) (57.4.0)\n",
            "Requirement already satisfied: zipp>=0.5 in /usr/local/lib/python3.7/dist-packages (from importlib-metadata>=1.7->apache-airflow) (3.5.0)\n",
            "Requirement already satisfied: pyrsistent>=0.14.0 in /usr/local/lib/python3.7/dist-packages (from jsonschema~=3.0->apache-airflow) (0.18.0)\n",
            "Requirement already satisfied: openapi-schema-validator in /usr/local/lib/python3.7/dist-packages (from openapi-spec-validator>=0.2.4->apache-airflow) (0.1.5)\n",
            "Requirement already satisfied: pytzdata>=2020.1 in /usr/local/lib/python3.7/dist-packages (from pendulum~=2.0->apache-airflow) (2020.1)\n",
            "Requirement already satisfied: text-unidecode>=1.3 in /usr/local/lib/python3.7/dist-packages (from python-slugify<5.0,>=3.0.0->apache-airflow) (1.3)\n",
            "Requirement already satisfied: defusedxml in /usr/local/lib/python3.7/dist-packages (from python3-openid~=3.2->apache-airflow) (0.7.1)\n",
            "Requirement already satisfied: commonmark<0.10.0,>=0.9.0 in /usr/local/lib/python3.7/dist-packages (from rich>=9.2.0->apache-airflow) (0.9.1)\n",
            "Requirement already satisfied: requests>=2.26.0 in /usr/local/lib/python3.7/dist-packages (from apache-airflow-providers-http->apache-airflow) (2.26.0)\n",
            "Requirement already satisfied: charset-normalizer~=2.0.0 in /usr/local/lib/python3.7/dist-packages (from requests>=2.26.0->apache-airflow-providers-http->apache-airflow) (2.0.6)\n",
            "Requirement already satisfied: certifi>=2017.4.17 in /usr/local/lib/python3.7/dist-packages (from requests>=2.26.0->apache-airflow-providers-http->apache-airflow) (2021.5.30)\n",
            "Requirement already satisfied: urllib3<1.27,>=1.21.1 in /usr/local/lib/python3.7/dist-packages (from requests>=2.26.0->apache-airflow-providers-http->apache-airflow) (1.24.3)\n",
            "Requirement already satisfied: rfc3986[idna2008]<2,>=1.3 in /usr/local/lib/python3.7/dist-packages (from httpx->apache-airflow) (1.5.0)\n",
            "Requirement already satisfied: sniffio in /usr/local/lib/python3.7/dist-packages (from httpx->apache-airflow) (1.2.0)\n",
            "Requirement already satisfied: httpcore<0.14.0,>=0.13.3 in /usr/local/lib/python3.7/dist-packages (from httpx->apache-airflow) (0.13.7)\n",
            "Requirement already satisfied: anyio==3.* in /usr/local/lib/python3.7/dist-packages (from httpcore<0.14.0,>=0.13.3->httpx->apache-airflow) (3.3.2)\n",
            "Requirement already satisfied: h11<0.13,>=0.11 in /usr/local/lib/python3.7/dist-packages (from httpcore<0.14.0,>=0.13.3->httpx->apache-airflow) (0.12.0)\n",
            "Requirement already satisfied: isodate in /usr/local/lib/python3.7/dist-packages (from openapi-schema-validator->openapi-spec-validator>=0.2.4->apache-airflow) (0.6.0)\n"
          ]
        }
      ]
    },
    {
      "cell_type": "code",
      "metadata": {
        "colab": {
          "base_uri": "https://localhost:8080/"
        },
        "id": "RCWPk_P-aXLa",
        "outputId": "e6e644ec-ef0d-4f29-ec83-e5206074d265"
      },
      "source": [
        "!airflow initdb"
      ],
      "execution_count": null,
      "outputs": [
        {
          "output_type": "stream",
          "name": "stdout",
          "text": [
            "usage: airflow [-h] GROUP_OR_COMMAND ...\n",
            "\n",
            "positional arguments:\n",
            "  GROUP_OR_COMMAND\n",
            "\n",
            "    Groups:\n",
            "      celery         Celery components\n",
            "      config         View configuration\n",
            "      connections    Manage connections\n",
            "      dags           Manage DAGs\n",
            "      db             Database operations\n",
            "      jobs           Manage jobs\n",
            "      kubernetes     Tools to help run the KubernetesExecutor\n",
            "      pools          Manage pools\n",
            "      providers      Display providers\n",
            "      roles          Manage roles\n",
            "      tasks          Manage tasks\n",
            "      users          Manage users\n",
            "      variables      Manage variables\n",
            "\n",
            "    Commands:\n",
            "      cheat-sheet    Display cheat sheet\n",
            "      info           Show information about current Airflow and environment\n",
            "      kerberos       Start a kerberos ticket renewer\n",
            "      plugins        Dump information about loaded plugins\n",
            "      rotate-fernet-key\n",
            "                     Rotate encrypted connection credentials and variables\n",
            "      scheduler      Start a scheduler instance\n",
            "      sync-perm      Update permissions for existing roles and optionally DAGs\n",
            "      version        Show the version\n",
            "      webserver      Start a Airflow webserver instance\n",
            "\n",
            "optional arguments:\n",
            "  -h, --help         show this help message and exit\n",
            "\n",
            "airflow command error: argument GROUP_OR_COMMAND: `airflow initdb` command, has been removed, please use `airflow db init`, see help above.\n"
          ]
        }
      ]
    },
    {
      "cell_type": "code",
      "metadata": {
        "colab": {
          "base_uri": "https://localhost:8080/"
        },
        "id": "By5DhAKKakhq",
        "outputId": "a4bfae5c-0efc-4287-bf5e-170a8cdf4f65"
      },
      "source": [
        "!wget https://bin.equinox.io/c/4VmDzA7iaHb/ngrok-stable-linux-amd64.zip"
      ],
      "execution_count": null,
      "outputs": [
        {
          "output_type": "stream",
          "name": "stdout",
          "text": [
            "--2021-09-30 01:25:42--  https://bin.equinox.io/c/4VmDzA7iaHb/ngrok-stable-linux-amd64.zip\n",
            "Resolving bin.equinox.io (bin.equinox.io)... 54.237.133.81, 52.202.168.65, 54.161.241.46, ...\n",
            "Connecting to bin.equinox.io (bin.equinox.io)|54.237.133.81|:443... connected.\n",
            "HTTP request sent, awaiting response... 200 OK\n",
            "Length: 13832437 (13M) [application/octet-stream]\n",
            "Saving to: ‘ngrok-stable-linux-amd64.zip.1’\n",
            "\n",
            "ngrok-stable-linux- 100%[===================>]  13.19M  11.7MB/s    in 1.1s    \n",
            "\n",
            "2021-09-30 01:25:44 (11.7 MB/s) - ‘ngrok-stable-linux-amd64.zip.1’ saved [13832437/13832437]\n",
            "\n"
          ]
        }
      ]
    },
    {
      "cell_type": "code",
      "metadata": {
        "colab": {
          "base_uri": "https://localhost:8080/"
        },
        "id": "-0ngZ1cFcJky",
        "outputId": "fb19c060-79c1-4fed-dd71-ccf7c3481dda"
      },
      "source": [
        "!airflow webserver"
      ],
      "execution_count": null,
      "outputs": [
        {
          "output_type": "stream",
          "name": "stdout",
          "text": [
            "\u001b[1;33m/usr/local/lib/python3.7/dist-packages/psycopg2/\u001b[0m\u001b[1;33m__init__.py\u001b[0m\u001b[1;33m:\u001b[0m\u001b[1;33m144\u001b[0m\u001b[1;33m UserWarning\u001b[0m\u001b[33m: The psycopg2 wheel package will be renamed from release \u001b[0m\u001b[1;33m2.8\u001b[0m\u001b[33m; in order to keep installing from binary please use \u001b[0m\u001b[33m\"pip install psycopg2-binary\"\u001b[0m\u001b[33m instead. For details see: \u001b[0m\u001b[1;33m<\u001b[0m\u001b[4;33mhttp:\u001b[0m\u001b[4;33m//initd.org/psycopg/docs/install.html#binary-install-from-pypi\u001b[0m\u001b[1;33m>\u001b[0m\u001b[33m.\u001b[0m\n",
            "[\u001b[34m2021-09-30 01:25:55,346\u001b[0m] {\u001b[34mcli_action_loggers.py:\u001b[0m105} \u001b[33mWARNING\u001b[0m - \u001b[33mFailed to log action with \u001b[01m(sqlite3.OperationalError) no such table: log\n",
            "[SQL: INSERT INTO log (dttm, dag_id, task_id, event, execution_date, owner, extra) VALUES (?, ?, ?, ?, ?, ?, ?)]\n",
            "[parameters: ('2021-09-30 01:25:55.343974', None, None, 'cli_webserver', None, 'root', '{\"host_name\": \"8c3ee6b7f7ee\", \"full_command\": \"[\\'/usr/local/bin/airflow\\', \\'webserver\\']\"}')]\n",
            "(Background on this error at: http://sqlalche.me/e/13/e3q8)\u001b[22m\u001b[0m\n",
            "  ____________       _____________\n",
            " ____    |__( )_________  __/__  /________      __\n",
            "____  /| |_  /__  ___/_  /_ __  /_  __ \\_ | /| / /\n",
            "___  ___ |  / _  /   _  __/ _  / / /_/ /_ |/ |/ /\n",
            " _/_/  |_/_/  /_/    /_/    /_/  \\____/____/|__/\n",
            "[\u001b[34m2021-09-30 01:25:55,351\u001b[0m] {\u001b[34mdagbag.py:\u001b[0m496} INFO\u001b[0m - Filling up the DagBag from \u001b[01m/dev/null\u001b[22m\u001b[0m\n",
            "[\u001b[34m2021-09-30 01:25:55,385\u001b[0m] {\u001b[34mmanager.py:\u001b[0m788} \u001b[33mWARNING\u001b[0m - \u001b[33mNo user yet created, use flask fab command to do it.\u001b[0m\n",
            "Running the Gunicorn Server with:\n",
            "Workers: 4 sync\n",
            "Host: 0.0.0.0:8080\n",
            "Timeout: 120\n",
            "Logfiles: - -\n",
            "Access Logformat: \n",
            "=================================================================            \n",
            "[2021-09-30 01:25:57 +0000] [383] [INFO] Starting gunicorn 20.1.0\n",
            "[2021-09-30 01:25:57 +0000] [383] [ERROR] Connection in use: ('0.0.0.0', 8080)\n",
            "[2021-09-30 01:25:57 +0000] [383] [ERROR] Retrying in 1 second.\n",
            "[2021-09-30 01:25:58 +0000] [383] [ERROR] Connection in use: ('0.0.0.0', 8080)\n",
            "[2021-09-30 01:25:58 +0000] [383] [ERROR] Retrying in 1 second.\n",
            "[2021-09-30 01:25:59 +0000] [383] [ERROR] Connection in use: ('0.0.0.0', 8080)\n",
            "[2021-09-30 01:25:59 +0000] [383] [ERROR] Retrying in 1 second.\n",
            "[2021-09-30 01:26:00 +0000] [383] [ERROR] Connection in use: ('0.0.0.0', 8080)\n",
            "[2021-09-30 01:26:00 +0000] [383] [ERROR] Retrying in 1 second.\n",
            "[2021-09-30 01:26:01 +0000] [383] [ERROR] Connection in use: ('0.0.0.0', 8080)\n",
            "[2021-09-30 01:26:01 +0000] [383] [ERROR] Retrying in 1 second.\n",
            "[2021-09-30 01:26:02 +0000] [383] [ERROR] Can't connect to ('0.0.0.0', 8080)\n",
            "[\u001b[34m2021-09-30 01:27:56,998\u001b[0m] {\u001b[34mwebserver_command.py:\u001b[0m217} \u001b[31mERROR\u001b[0m - \u001b[31mNo response from gunicorn master within 120 seconds\u001b[0m\n",
            "[\u001b[34m2021-09-30 01:27:56,999\u001b[0m] {\u001b[34mwebserver_command.py:\u001b[0m218} \u001b[31mERROR\u001b[0m - \u001b[31mShutting down webserver\u001b[0m\n"
          ]
        }
      ]
    },
    {
      "cell_type": "code",
      "metadata": {
        "colab": {
          "base_uri": "https://localhost:8080/"
        },
        "id": "4dbWzpaJc5pu",
        "outputId": "203943aa-9417-48c8-83a8-3193db6dcf0b"
      },
      "source": [
        "!unzip ngrok-stable-linux-amd64.zip"
      ],
      "execution_count": null,
      "outputs": [
        {
          "output_type": "stream",
          "name": "stdout",
          "text": [
            "Archive:  ngrok-stable-linux-amd64.zip\n",
            "  inflating: ngrok                   \n"
          ]
        }
      ]
    },
    {
      "cell_type": "code",
      "metadata": {
        "id": "3L5pFXqFdHi1"
      },
      "source": [
        "#DAG 01\n",
        "\n",
        "import datetime as dt\n",
        "\n",
        "from airflow import DAG\n",
        "from airflow.operators.bash_operator import BashOperator\n",
        "from airflow.operators.python_operator import PythonOperator\n",
        "\n",
        "def greet():\n",
        "  print('writing in file')\n",
        "  with open('greet.txt', 'a+', encoding= 'utf8') as f:\n",
        "    now=dt.datetime.now()\n",
        "    t = now.strftime(\"%Y-%m=%d %H:%M\")\n",
        "    f.write(str(t) + '\\n')\n",
        "  return 'Greeted'\n",
        "\n",
        "def respond():\n",
        "  return 'Greet Responded Already'\n",
        "\n",
        "default_args = {\n",
        "    'owner' : 'airflow',\n",
        "    'start_date' : dt.datetime(2021, 9, 24, 10, 00, 00),\n",
        "    'concurrency' :1,\n",
        "    'retries' :0\n",
        "}\n",
        "\n",
        "with DAG('my_simple-dag',\n",
        "         catchup = False,\n",
        "         default_args = default_args,\n",
        "         schedule_interval = '*/10 * * * *',\n",
        "         ) as dag:\n",
        "         \n",
        "         opr_hello = BashOperator(task_id='say_Hi',\n",
        "                                  bash_command = 'echo \"Hi!\"')\n",
        "         \n",
        "         opr_greet = PythonOperator(task_id = 'greet',\n",
        "                                    python_callable = greet)\n",
        "         \n",
        "         opr_sleep = BashOperator(task_id='sleep_me',\n",
        "                                  bash_command = 'sleep 5')\n",
        "         \n",
        "         opr_respond = PythonOperator(task_id = 'respond',\n",
        "                                    python_callable = respond)"
      ],
      "execution_count": null,
      "outputs": []
    },
    {
      "cell_type": "code",
      "metadata": {
        "colab": {
          "base_uri": "https://localhost:8080/"
        },
        "id": "AcX_rvmhmp9K",
        "outputId": "77784f53-8775-4f61-80fb-72ef1c52c7d1"
      },
      "source": [
        "opr_respond"
      ],
      "execution_count": null,
      "outputs": [
        {
          "output_type": "execute_result",
          "data": {
            "text/plain": [
              "<Task(PythonOperator): respond>"
            ]
          },
          "metadata": {},
          "execution_count": 13
        }
      ]
    },
    {
      "cell_type": "code",
      "metadata": {
        "colab": {
          "base_uri": "https://localhost:8080/",
          "height": 53
        },
        "id": "dc4su19Sm_C8",
        "outputId": "9bd2c140-848a-45e0-8c63-70faa2fec9c6"
      },
      "source": [
        "greet()"
      ],
      "execution_count": null,
      "outputs": [
        {
          "output_type": "stream",
          "name": "stdout",
          "text": [
            "writing in file\n"
          ]
        },
        {
          "output_type": "execute_result",
          "data": {
            "application/vnd.google.colaboratory.intrinsic+json": {
              "type": "string"
            },
            "text/plain": [
              "'Greeted'"
            ]
          },
          "metadata": {},
          "execution_count": 16
        }
      ]
    },
    {
      "cell_type": "code",
      "metadata": {
        "colab": {
          "base_uri": "https://localhost:8080/",
          "height": 51
        },
        "id": "BtZM_gyvpfJi",
        "outputId": "04238b99-69ff-496c-f99f-3a96e436411e"
      },
      "source": [
        "#DAG 02\n",
        "\n",
        "import re\n",
        "from datetime import datetime, timedelta\n",
        "import requests\n",
        "\n",
        "from airflow import DAG\n",
        "from airflow.operators.python_operator import BranchPythonOperator\n",
        "from airflow.operators.dummy_operator import DummyOperator\n",
        "from airflow.operators.email_operator import EmailOperator\n",
        "\n",
        "def if_value_higher_3000():\n",
        "\n",
        "  res = requests.get(\"http://www.nasdaq.com/\")\n",
        "  SnP500_value = extractor.findall(res.text)[0]\n",
        "\n",
        "  #As we are going to test email opertor\n",
        "  #we se it to true\n",
        "\n",
        "  if True:\n",
        "    return 'send_email'\n",
        "  else:\n",
        "    return 'do_nothing'\n",
        "\n",
        "default_args = {\n",
        "    'owner' : 'airflow'\n",
        "}\n",
        "\n",
        "dag = DAG(\n",
        "    'example_email_operator',\n",
        "    catchup = False,\n",
        "    start_date = datetime(2019, 1, 1),\n",
        "    schedule_interval='@daily',\n",
        "    default_args=default_args\n",
        ")\n",
        "\n",
        "PATTERN = 'storeIndexInfo\\(\"S&P 500\", \"(.+?)\"'\n",
        "extractor = re.compile(PATTERN)\n",
        "\n",
        "t_get_SnP500 = BranchPythonOperator(\n",
        "    task_id = 'get_SnP500_value',\n",
        "    python_callable = if_value_higher_3000,\n",
        "    dag=dag,\n",
        ")\n",
        "\n",
        "t_send_email = EmailOperator(\n",
        "    task_id = 'send_email',\n",
        "    subject= \"Today's S&P 500 value\",\n",
        "    to='nescalante@securitybank.com.ph',\n",
        "    html_content = \"Hey, it is higher than 3000\",\n",
        "    dag=dag\n",
        ")\n",
        "\n",
        "to_do_nothing = DummyOperator(\n",
        "    task_id = 'do_nothing',\n",
        "    dag=dag\n",
        ")"
      ],
      "execution_count": null,
      "outputs": [
        {
          "output_type": "display_data",
          "data": {
            "text/html": [
              "<pre style=\"white-space:pre;overflow-x:auto;line-height:normal;font-family:Menlo,'DejaVu Sans Mono',consolas,'Courier New',monospace\"><span style=\"color: #808000; text-decoration-color: #808000; font-weight: bold\">/usr/local/lib/python3.7/dist-packages/ipykernel_launcher.py:</span><span style=\"color: #808000; text-decoration-color: #808000; font-weight: bold\">9</span><span style=\"color: #808000; text-decoration-color: #808000; font-weight: bold\"> DeprecationWarning</span><span style=\"color: #808000; text-decoration-color: #808000\">: This module is deprecated. Please use `airflow.operators.dummy`.</span>\n",
              "</pre>\n"
            ],
            "text/plain": [
              "\u001b[1;33m/usr/local/lib/python3.7/dist-packages/\u001b[0m\u001b[1;33mipykernel_launcher.py\u001b[0m\u001b[1;33m:\u001b[0m\u001b[1;33m9\u001b[0m\u001b[1;33m DeprecationWarning\u001b[0m\u001b[33m: This module is deprecated. Please use `airflow.operators.dummy`.\u001b[0m\n"
            ]
          },
          "metadata": {}
        },
        {
          "output_type": "display_data",
          "data": {
            "text/html": [
              "<pre style=\"white-space:pre;overflow-x:auto;line-height:normal;font-family:Menlo,'DejaVu Sans Mono',consolas,'Courier New',monospace\"><span style=\"color: #808000; text-decoration-color: #808000; font-weight: bold\">/usr/local/lib/python3.7/dist-packages/ipykernel_launcher.py:</span><span style=\"color: #808000; text-decoration-color: #808000; font-weight: bold\">10</span><span style=\"color: #808000; text-decoration-color: #808000; font-weight: bold\"> DeprecationWarning</span><span style=\"color: #808000; text-decoration-color: #808000\">: This module is deprecated. Please use `airflow.operators.email`.</span>\n",
              "</pre>\n"
            ],
            "text/plain": [
              "\u001b[1;33m/usr/local/lib/python3.7/dist-packages/\u001b[0m\u001b[1;33mipykernel_launcher.py\u001b[0m\u001b[1;33m:\u001b[0m\u001b[1;33m10\u001b[0m\u001b[1;33m DeprecationWarning\u001b[0m\u001b[33m: This module is deprecated. Please use `airflow.operators.email`.\u001b[0m\n"
            ]
          },
          "metadata": {}
        }
      ]
    },
    {
      "cell_type": "code",
      "metadata": {
        "id": "Y7GIFH_9zFZq",
        "colab": {
          "base_uri": "https://localhost:8080/"
        },
        "outputId": "a3c21f85-78a5-431c-dee3-108d721730c1"
      },
      "source": [
        "t_get_SnP500 >> (t_send_email, to_do_nothing)"
      ],
      "execution_count": null,
      "outputs": [
        {
          "output_type": "execute_result",
          "data": {
            "text/plain": [
              "(<Task(EmailOperator): send_email>, <Task(DummyOperator): do_nothing>)"
            ]
          },
          "metadata": {},
          "execution_count": 18
        }
      ]
    },
    {
      "cell_type": "code",
      "metadata": {
        "id": "BFGiBjOvL7nh"
      },
      "source": [
        "#Sep 30\n",
        "\n",
        "from airflow import DAG\n",
        "from airflow.operators.bash_operator import BashOperator\n",
        "from datetime import datetime, timedelta\n",
        "\n",
        "default_args = {\n",
        "    'owner' : 'muller',\n",
        "    'depends_on_past' : False,\n",
        "    'start_date' : datetime(2021, 8, 1),\n",
        "    'email' : ['airflow@example.com'],\n",
        "    'email_on_failure': False,\n",
        "    'email_on_retry' : False,\n",
        "    'retries' : 1,\n",
        "    'retry_delay' : timedelta(minutes=5),\n",
        "}\n",
        "\n",
        "dag = DAG('daily_report', default_args = default_args,\n",
        "          schedule_interval=timedelta(days = 1))\n",
        "\n",
        "t1_a = BashOperator(\n",
        "    task_id = 'get_db_A',\n",
        "    bash_command = 'sh script_A.sh',\n",
        "    dag=dag\n",
        ")\n",
        "\n",
        "t1_b = BashOperator(\n",
        "    task_id = 'get_db_B',\n",
        "    bash_command = 'sh script_B.sh',\n",
        "    dag=dag\n",
        ")\n",
        "\n",
        "t1_c = BashOperator(\n",
        "    task_id = 'get_db_C',\n",
        "    bash_command = 'sh script_C.sh',\n",
        "    dag=dag\n",
        ")\n",
        "\n",
        "t2 = BashOperator(\n",
        "    task_id = 'join_data',\n",
        "    bash_command = 'sh join_data.sh',\n",
        "    dag=dag\n",
        ")\n",
        "\n",
        "t3 = BashOperator(\n",
        "    task_id = 'analyze',\n",
        "    bash_command = 'sh analyze.sh',\n",
        "    dag=dag\n",
        ")\n",
        "\n"
      ],
      "execution_count": null,
      "outputs": []
    },
    {
      "cell_type": "code",
      "metadata": {
        "colab": {
          "base_uri": "https://localhost:8080/"
        },
        "id": "1Ouwl_wQTFJH",
        "outputId": "847aebce-8b39-46ab-ac9f-5ab45f6459aa"
      },
      "source": [
        "(t1_a, t1_b, t1_c) >> t2 >> t3"
      ],
      "execution_count": null,
      "outputs": [
        {
          "output_type": "execute_result",
          "data": {
            "text/plain": [
              "<Task(BashOperator): analyze>"
            ]
          },
          "metadata": {},
          "execution_count": 18
        }
      ]
    },
    {
      "cell_type": "code",
      "metadata": {
        "colab": {
          "base_uri": "https://localhost:8080/",
          "height": 1000
        },
        "id": "tX5jtAeBUAgF",
        "outputId": "29d6abb6-4fae-4fed-c894-99369aa3c650"
      },
      "source": [
        "#Azure\n",
        "\n",
        "!pip install apache-airflow-providers-microsoft-azure"
      ],
      "execution_count": null,
      "outputs": [
        {
          "output_type": "stream",
          "name": "stdout",
          "text": [
            "Collecting apache-airflow-providers-microsoft-azure\n",
            "  Downloading apache_airflow_providers_microsoft_azure-3.1.1-py3-none-any.whl (86 kB)\n",
            "\u001b[?25l\r\u001b[K     |███▊                            | 10 kB 32.1 MB/s eta 0:00:01\r\u001b[K     |███████▌                        | 20 kB 36.7 MB/s eta 0:00:01\r\u001b[K     |███████████▎                    | 30 kB 43.0 MB/s eta 0:00:01\r\u001b[K     |███████████████                 | 40 kB 19.0 MB/s eta 0:00:01\r\u001b[K     |██████████████████▉             | 51 kB 15.4 MB/s eta 0:00:01\r\u001b[K     |██████████████████████▋         | 61 kB 14.1 MB/s eta 0:00:01\r\u001b[K     |██████████████████████████▍     | 71 kB 12.0 MB/s eta 0:00:01\r\u001b[K     |██████████████████████████████▏ | 81 kB 13.3 MB/s eta 0:00:01\r\u001b[K     |████████████████████████████████| 86 kB 4.4 MB/s \n",
            "\u001b[?25hRequirement already satisfied: apache-airflow>=2.1.0 in /usr/local/lib/python3.7/dist-packages (from apache-airflow-providers-microsoft-azure) (2.1.4)\n",
            "Collecting azure-identity>=1.3.1\n",
            "  Downloading azure_identity-1.6.1-py2.py3-none-any.whl (109 kB)\n",
            "\u001b[K     |████████████████████████████████| 109 kB 36.6 MB/s \n",
            "\u001b[?25hCollecting azure-mgmt-resource>=2.2.0\n",
            "  Downloading azure_mgmt_resource-20.0.0-py2.py3-none-any.whl (2.3 MB)\n",
            "\u001b[K     |████████████████████████████████| 2.3 MB 73.1 MB/s \n",
            "\u001b[?25hCollecting azure-datalake-store>=0.0.45\n",
            "  Downloading azure_datalake_store-0.0.52-py2.py3-none-any.whl (61 kB)\n",
            "\u001b[K     |████████████████████████████████| 61 kB 270 kB/s \n",
            "\u001b[?25hCollecting azure-kusto-data<0.1,>=0.0.43\n",
            "  Downloading azure_kusto_data-0.0.45-py2.py3-none-any.whl (18 kB)\n",
            "Collecting azure-mgmt-datalake-store>=0.5.0\n",
            "  Downloading azure_mgmt_datalake_store-0.5.0-py2.py3-none-any.whl (88 kB)\n",
            "\u001b[K     |████████████████████████████████| 88 kB 7.4 MB/s \n",
            "\u001b[?25hCollecting azure-storage-common>=2.1.0\n",
            "  Downloading azure_storage_common-2.1.0-py2.py3-none-any.whl (47 kB)\n",
            "\u001b[K     |████████████████████████████████| 47 kB 4.7 MB/s \n",
            "\u001b[?25hCollecting azure-mgmt-datafactory<2.0,>=1.0.0\n",
            "  Downloading azure_mgmt_datafactory-1.1.0-py2.py3-none-any.whl (477 kB)\n",
            "\u001b[K     |████████████████████████████████| 477 kB 76.2 MB/s \n",
            "\u001b[?25hCollecting azure-storage-file>=2.1.0\n",
            "  Downloading azure_storage_file-2.1.0-py2.py3-none-any.whl (36 kB)\n",
            "Collecting azure-keyvault>=4.1.0\n",
            "  Downloading azure_keyvault-4.1.0-py2.py3-none-any.whl (4.2 kB)\n",
            "Collecting azure-storage-blob>=12.7.0\n",
            "  Downloading azure_storage_blob-12.9.0-py2.py3-none-any.whl (356 kB)\n",
            "\u001b[K     |████████████████████████████████| 356 kB 56.4 MB/s \n",
            "\u001b[?25hCollecting azure-mgmt-containerinstance<2.0,>=1.5.0\n",
            "  Downloading azure_mgmt_containerinstance-1.5.0-py2.py3-none-any.whl (96 kB)\n",
            "\u001b[K     |████████████████████████████████| 96 kB 6.0 MB/s \n",
            "\u001b[?25hCollecting azure-cosmos<4,>=3.0.1\n",
            "  Downloading azure_cosmos-3.2.0-py2.py3-none-any.whl (106 kB)\n",
            "\u001b[K     |████████████████████████████████| 106 kB 73.6 MB/s \n",
            "\u001b[?25hCollecting azure-batch>=8.0.0\n",
            "  Downloading azure_batch-11.0.0-py2.py3-none-any.whl (228 kB)\n",
            "\u001b[K     |████████████████████████████████| 228 kB 74.5 MB/s \n",
            "\u001b[?25hRequirement already satisfied: gunicorn>=19.5.0 in /usr/local/lib/python3.7/dist-packages (from apache-airflow>=2.1.0->apache-airflow-providers-microsoft-azure) (20.1.0)\n",
            "Requirement already satisfied: jsonschema~=3.0 in /usr/local/lib/python3.7/dist-packages (from apache-airflow>=2.1.0->apache-airflow-providers-microsoft-azure) (3.2.0)\n",
            "Requirement already satisfied: tabulate<0.9,>=0.7.5 in /usr/local/lib/python3.7/dist-packages (from apache-airflow>=2.1.0->apache-airflow-providers-microsoft-azure) (0.8.9)\n",
            "Requirement already satisfied: flask-caching<2.0.0,>=1.5.0 in /usr/local/lib/python3.7/dist-packages (from apache-airflow>=2.1.0->apache-airflow-providers-microsoft-azure) (1.10.1)\n",
            "Requirement already satisfied: pendulum~=2.0 in /usr/local/lib/python3.7/dist-packages (from apache-airflow>=2.1.0->apache-airflow-providers-microsoft-azure) (2.1.2)\n",
            "Requirement already satisfied: typing-extensions>=3.7.4 in /usr/local/lib/python3.7/dist-packages (from apache-airflow>=2.1.0->apache-airflow-providers-microsoft-azure) (3.7.4.3)\n",
            "Requirement already satisfied: python-daemon>=2.2.4 in /usr/local/lib/python3.7/dist-packages (from apache-airflow>=2.1.0->apache-airflow-providers-microsoft-azure) (2.3.0)\n",
            "Requirement already satisfied: apache-airflow-providers-imap in /usr/local/lib/python3.7/dist-packages (from apache-airflow>=2.1.0->apache-airflow-providers-microsoft-azure) (2.0.1)\n",
            "Requirement already satisfied: graphviz>=0.12 in /usr/local/lib/python3.7/dist-packages (from apache-airflow>=2.1.0->apache-airflow-providers-microsoft-azure) (0.17)\n",
            "Requirement already satisfied: lockfile>=0.12.2 in /usr/local/lib/python3.7/dist-packages (from apache-airflow>=2.1.0->apache-airflow-providers-microsoft-azure) (0.12.2)\n",
            "Requirement already satisfied: markupsafe<2.0,>=1.1.1 in /usr/local/lib/python3.7/dist-packages (from apache-airflow>=2.1.0->apache-airflow-providers-microsoft-azure) (1.1.1)\n",
            "Requirement already satisfied: psutil<6.0.0,>=4.2.0 in /usr/local/lib/python3.7/dist-packages (from apache-airflow>=2.1.0->apache-airflow-providers-microsoft-azure) (5.4.8)\n",
            "Requirement already satisfied: tenacity~=6.2.0 in /usr/local/lib/python3.7/dist-packages (from apache-airflow>=2.1.0->apache-airflow-providers-microsoft-azure) (6.2.0)\n",
            "Requirement already satisfied: apache-airflow-providers-ftp in /usr/local/lib/python3.7/dist-packages (from apache-airflow>=2.1.0->apache-airflow-providers-microsoft-azure) (2.0.1)\n",
            "Requirement already satisfied: pyyaml>=5.1 in /usr/local/lib/python3.7/dist-packages (from apache-airflow>=2.1.0->apache-airflow-providers-microsoft-azure) (5.4.1)\n",
            "Requirement already satisfied: werkzeug>=1.0.1,~=1.0 in /usr/local/lib/python3.7/dist-packages (from apache-airflow>=2.1.0->apache-airflow-providers-microsoft-azure) (1.0.1)\n",
            "Requirement already satisfied: blinker in /usr/local/lib/python3.7/dist-packages (from apache-airflow>=2.1.0->apache-airflow-providers-microsoft-azure) (1.4)\n",
            "Requirement already satisfied: pygments<3.0,>=2.0.1 in /usr/local/lib/python3.7/dist-packages (from apache-airflow>=2.1.0->apache-airflow-providers-microsoft-azure) (2.6.1)\n",
            "Requirement already satisfied: numpy in /usr/local/lib/python3.7/dist-packages (from apache-airflow>=2.1.0->apache-airflow-providers-microsoft-azure) (1.19.5)\n",
            "Requirement already satisfied: attrs<21.0,>=20.0 in /usr/local/lib/python3.7/dist-packages (from apache-airflow>=2.1.0->apache-airflow-providers-microsoft-azure) (20.3.0)\n",
            "Requirement already satisfied: apache-airflow-providers-sqlite in /usr/local/lib/python3.7/dist-packages (from apache-airflow>=2.1.0->apache-airflow-providers-microsoft-azure) (2.0.1)\n",
            "Requirement already satisfied: docutils<0.17 in /usr/local/lib/python3.7/dist-packages (from apache-airflow>=2.1.0->apache-airflow-providers-microsoft-azure) (0.16)\n",
            "Requirement already satisfied: python-dateutil<3,>=2.3 in /usr/local/lib/python3.7/dist-packages (from apache-airflow>=2.1.0->apache-airflow-providers-microsoft-azure) (2.8.2)\n",
            "Requirement already satisfied: unicodecsv>=0.14.1 in /usr/local/lib/python3.7/dist-packages (from apache-airflow>=2.1.0->apache-airflow-providers-microsoft-azure) (0.14.1)\n",
            "Requirement already satisfied: cached-property~=1.5 in /usr/local/lib/python3.7/dist-packages (from apache-airflow>=2.1.0->apache-airflow-providers-microsoft-azure) (1.5.2)\n",
            "Requirement already satisfied: iso8601>=0.1.12 in /usr/local/lib/python3.7/dist-packages (from apache-airflow>=2.1.0->apache-airflow-providers-microsoft-azure) (0.1.16)\n",
            "Requirement already satisfied: apache-airflow-providers-http in /usr/local/lib/python3.7/dist-packages (from apache-airflow>=2.1.0->apache-airflow-providers-microsoft-azure) (2.0.1)\n",
            "Requirement already satisfied: croniter<1.1,>=0.3.17 in /usr/local/lib/python3.7/dist-packages (from apache-airflow>=2.1.0->apache-airflow-providers-microsoft-azure) (1.0.15)\n",
            "Requirement already satisfied: flask-appbuilder<4.0.0,>=3.3.2 in /usr/local/lib/python3.7/dist-packages (from apache-airflow>=2.1.0->apache-airflow-providers-microsoft-azure) (3.3.3)\n",
            "Requirement already satisfied: importlib-metadata>=1.7 in /usr/local/lib/python3.7/dist-packages (from apache-airflow>=2.1.0->apache-airflow-providers-microsoft-azure) (4.8.1)\n",
            "Requirement already satisfied: openapi-spec-validator>=0.2.4 in /usr/local/lib/python3.7/dist-packages (from apache-airflow>=2.1.0->apache-airflow-providers-microsoft-azure) (0.3.1)\n",
            "Requirement already satisfied: flask-wtf<0.15,>=0.14.3 in /usr/local/lib/python3.7/dist-packages (from apache-airflow>=2.1.0->apache-airflow-providers-microsoft-azure) (0.14.3)\n",
            "Requirement already satisfied: dill<0.4,>=0.2.2 in /usr/local/lib/python3.7/dist-packages (from apache-airflow>=2.1.0->apache-airflow-providers-microsoft-azure) (0.3.4)\n",
            "Requirement already satisfied: python-slugify<5.0,>=3.0.0 in /usr/local/lib/python3.7/dist-packages (from apache-airflow>=2.1.0->apache-airflow-providers-microsoft-azure) (4.0.1)\n",
            "Requirement already satisfied: termcolor>=1.1.0 in /usr/local/lib/python3.7/dist-packages (from apache-airflow>=2.1.0->apache-airflow-providers-microsoft-azure) (1.1.0)\n",
            "Requirement already satisfied: markdown<4.0,>=2.5.2 in /usr/local/lib/python3.7/dist-packages (from apache-airflow>=2.1.0->apache-airflow-providers-microsoft-azure) (3.3.4)\n",
            "Requirement already satisfied: marshmallow-oneofschema>=2.0.1 in /usr/local/lib/python3.7/dist-packages (from apache-airflow>=2.1.0->apache-airflow-providers-microsoft-azure) (3.0.1)\n",
            "Requirement already satisfied: python-nvd3~=0.15.0 in /usr/local/lib/python3.7/dist-packages (from apache-airflow>=2.1.0->apache-airflow-providers-microsoft-azure) (0.15.0)\n",
            "Requirement already satisfied: cattrs<1.7.0,~=1.1 in /usr/local/lib/python3.7/dist-packages (from apache-airflow>=2.1.0->apache-airflow-providers-microsoft-azure) (1.5.0)\n",
            "Requirement already satisfied: swagger-ui-bundle>=0.0.2 in /usr/local/lib/python3.7/dist-packages (from apache-airflow>=2.1.0->apache-airflow-providers-microsoft-azure) (0.0.9)\n",
            "Requirement already satisfied: httpx in /usr/local/lib/python3.7/dist-packages (from apache-airflow>=2.1.0->apache-airflow-providers-microsoft-azure) (0.19.0)\n",
            "Requirement already satisfied: clickclick>=1.2 in /usr/local/lib/python3.7/dist-packages (from apache-airflow>=2.1.0->apache-airflow-providers-microsoft-azure) (20.10.2)\n",
            "Requirement already satisfied: pyjwt<2 in /usr/local/lib/python3.7/dist-packages (from apache-airflow>=2.1.0->apache-airflow-providers-microsoft-azure) (1.7.1)\n",
            "Requirement already satisfied: sqlalchemy-jsonfield~=1.0 in /usr/local/lib/python3.7/dist-packages (from apache-airflow>=2.1.0->apache-airflow-providers-microsoft-azure) (1.0.0)\n",
            "Requirement already satisfied: pandas<2.0,>=0.17.1 in /usr/local/lib/python3.7/dist-packages (from apache-airflow>=2.1.0->apache-airflow-providers-microsoft-azure) (1.1.5)\n",
            "Requirement already satisfied: flask<2.0,>=1.1.0 in /usr/local/lib/python3.7/dist-packages (from apache-airflow>=2.1.0->apache-airflow-providers-microsoft-azure) (1.1.4)\n",
            "Requirement already satisfied: importlib-resources~=1.4 in /usr/local/lib/python3.7/dist-packages (from apache-airflow>=2.1.0->apache-airflow-providers-microsoft-azure) (1.5.0)\n",
            "Requirement already satisfied: flask-login<0.5,>=0.3 in /usr/local/lib/python3.7/dist-packages (from apache-airflow>=2.1.0->apache-airflow-providers-microsoft-azure) (0.4.1)\n",
            "Requirement already satisfied: python3-openid~=3.2 in /usr/local/lib/python3.7/dist-packages (from apache-airflow>=2.1.0->apache-airflow-providers-microsoft-azure) (3.2.0)\n",
            "Requirement already satisfied: colorlog<6.0,>=4.0.2 in /usr/local/lib/python3.7/dist-packages (from apache-airflow>=2.1.0->apache-airflow-providers-microsoft-azure) (5.0.1)\n",
            "Requirement already satisfied: argcomplete~=1.10 in /usr/local/lib/python3.7/dist-packages (from apache-airflow>=2.1.0->apache-airflow-providers-microsoft-azure) (1.12.3)\n",
            "Requirement already satisfied: rich>=9.2.0 in /usr/local/lib/python3.7/dist-packages (from apache-airflow>=2.1.0->apache-airflow-providers-microsoft-azure) (10.11.0)\n",
            "Requirement already satisfied: setproctitle<2,>=1.1.8 in /usr/local/lib/python3.7/dist-packages (from apache-airflow>=2.1.0->apache-airflow-providers-microsoft-azure) (1.2.2)\n",
            "Requirement already satisfied: cryptography>=0.9.3 in /usr/local/lib/python3.7/dist-packages (from apache-airflow>=2.1.0->apache-airflow-providers-microsoft-azure) (3.4.8)\n",
            "Requirement already satisfied: jinja2<4,>=2.10.1 in /usr/local/lib/python3.7/dist-packages (from apache-airflow>=2.1.0->apache-airflow-providers-microsoft-azure) (2.11.3)\n",
            "Requirement already satisfied: lazy-object-proxy in /usr/local/lib/python3.7/dist-packages (from apache-airflow>=2.1.0->apache-airflow-providers-microsoft-azure) (1.6.0)\n",
            "Requirement already satisfied: alembic<2.0,>=1.2 in /usr/local/lib/python3.7/dist-packages (from apache-airflow>=2.1.0->apache-airflow-providers-microsoft-azure) (1.7.3)\n",
            "Requirement already satisfied: sqlalchemy>=1.3.18 in /usr/local/lib/python3.7/dist-packages (from apache-airflow>=2.1.0->apache-airflow-providers-microsoft-azure) (1.3.24)\n",
            "Requirement already satisfied: itsdangerous<2.0,>=1.1.0 in /usr/local/lib/python3.7/dist-packages (from apache-airflow>=2.1.0->apache-airflow-providers-microsoft-azure) (1.1.0)\n",
            "Requirement already satisfied: inflection>=0.3.1 in /usr/local/lib/python3.7/dist-packages (from apache-airflow>=2.1.0->apache-airflow-providers-microsoft-azure) (0.5.1)\n",
            "Requirement already satisfied: Mako in /usr/local/lib/python3.7/dist-packages (from alembic<2.0,>=1.2->apache-airflow>=2.1.0->apache-airflow-providers-microsoft-azure) (1.1.5)\n",
            "Collecting msrest>=0.6.21\n",
            "  Downloading msrest-0.6.21-py2.py3-none-any.whl (85 kB)\n",
            "\u001b[K     |████████████████████████████████| 85 kB 4.2 MB/s \n",
            "\u001b[?25hCollecting msrestazure<2.0.0,>=0.4.32\n",
            "  Downloading msrestazure-0.6.4-py2.py3-none-any.whl (40 kB)\n",
            "\u001b[K     |████████████████████████████████| 40 kB 5.2 MB/s \n",
            "\u001b[?25hCollecting azure-common~=1.1\n",
            "  Downloading azure_common-1.1.27-py2.py3-none-any.whl (12 kB)\n",
            "Requirement already satisfied: six>=1.6 in /usr/local/lib/python3.7/dist-packages (from azure-cosmos<4,>=3.0.1->apache-airflow-providers-microsoft-azure) (1.15.0)\n",
            "Requirement already satisfied: requests>=2.10.0 in /usr/local/lib/python3.7/dist-packages (from azure-cosmos<4,>=3.0.1->apache-airflow-providers-microsoft-azure) (2.26.0)\n",
            "Requirement already satisfied: cffi in /usr/local/lib/python3.7/dist-packages (from azure-datalake-store>=0.0.45->apache-airflow-providers-microsoft-azure) (1.14.6)\n",
            "Collecting adal>=0.4.2\n",
            "  Downloading adal-1.2.7-py2.py3-none-any.whl (55 kB)\n",
            "\u001b[K     |████████████████████████████████| 55 kB 3.9 MB/s \n",
            "\u001b[?25hCollecting msal<2.0.0,>=1.7.0\n",
            "  Downloading msal-1.14.0-py2.py3-none-any.whl (75 kB)\n",
            "\u001b[K     |████████████████████████████████| 75 kB 3.3 MB/s \n",
            "\u001b[?25hCollecting msal-extensions~=0.3.0\n",
            "  Downloading msal_extensions-0.3.0-py2.py3-none-any.whl (16 kB)\n",
            "Collecting azure-core<2.0.0,>=1.0.0\n",
            "  Downloading azure_core-1.18.0-py2.py3-none-any.whl (166 kB)\n",
            "\u001b[K     |████████████████████████████████| 166 kB 80.1 MB/s \n",
            "\u001b[?25hCollecting azure-keyvault-secrets~=4.1\n",
            "  Downloading azure_keyvault_secrets-4.3.0-py2.py3-none-any.whl (233 kB)\n",
            "\u001b[K     |████████████████████████████████| 233 kB 70.9 MB/s \n",
            "\u001b[?25hCollecting azure-keyvault-certificates~=4.1\n",
            "  Downloading azure_keyvault_certificates-4.3.0-py2.py3-none-any.whl (276 kB)\n",
            "\u001b[K     |████████████████████████████████| 276 kB 76.6 MB/s \n",
            "\u001b[?25hCollecting azure-keyvault-keys~=4.1\n",
            "  Downloading azure_keyvault_keys-4.4.0-py2.py3-none-any.whl (289 kB)\n",
            "\u001b[K     |████████████████████████████████| 289 kB 58.3 MB/s \n",
            "\u001b[?25hCollecting azure-mgmt-core<2.0.0,>=1.2.0\n",
            "  Downloading azure_mgmt_core-1.3.0-py2.py3-none-any.whl (25 kB)\n",
            "Collecting azure-mgmt-datalake-nspkg>=2.0.0\n",
            "  Downloading azure_mgmt_datalake_nspkg-3.0.1-py3-none-any.whl (1.7 kB)\n",
            "Collecting azure-mgmt-nspkg>=3.0.0\n",
            "  Downloading azure_mgmt_nspkg-3.0.2-py3-none-any.whl (1.6 kB)\n",
            "Collecting azure-nspkg>=3.0.0\n",
            "  Downloading azure_nspkg-3.0.2-py3-none-any.whl (1.5 kB)\n",
            "Requirement already satisfied: click>=4.0 in /usr/local/lib/python3.7/dist-packages (from clickclick>=1.2->apache-airflow>=2.1.0->apache-airflow-providers-microsoft-azure) (7.1.2)\n",
            "Requirement already satisfied: pycparser in /usr/local/lib/python3.7/dist-packages (from cffi->azure-datalake-store>=0.0.45->apache-airflow-providers-microsoft-azure) (2.20)\n",
            "Requirement already satisfied: Flask-Babel<2,>=1 in /usr/local/lib/python3.7/dist-packages (from flask-appbuilder<4.0.0,>=3.3.2->apache-airflow>=2.1.0->apache-airflow-providers-microsoft-azure) (1.0.0)\n",
            "Requirement already satisfied: Flask-SQLAlchemy<3,>=2.4 in /usr/local/lib/python3.7/dist-packages (from flask-appbuilder<4.0.0,>=3.3.2->apache-airflow>=2.1.0->apache-airflow-providers-microsoft-azure) (2.5.1)\n",
            "Requirement already satisfied: Flask-OpenID<2,>=1.2.5 in /usr/local/lib/python3.7/dist-packages (from flask-appbuilder<4.0.0,>=3.3.2->apache-airflow>=2.1.0->apache-airflow-providers-microsoft-azure) (1.3.0)\n",
            "Requirement already satisfied: sqlalchemy-utils<1,>=0.32.21 in /usr/local/lib/python3.7/dist-packages (from flask-appbuilder<4.0.0,>=3.3.2->apache-airflow>=2.1.0->apache-airflow-providers-microsoft-azure) (0.37.8)\n",
            "Requirement already satisfied: Flask-JWT-Extended<4,>=3.18 in /usr/local/lib/python3.7/dist-packages (from flask-appbuilder<4.0.0,>=3.3.2->apache-airflow>=2.1.0->apache-airflow-providers-microsoft-azure) (3.25.1)\n",
            "Requirement already satisfied: email-validator<2,>=1.0.5 in /usr/local/lib/python3.7/dist-packages (from flask-appbuilder<4.0.0,>=3.3.2->apache-airflow>=2.1.0->apache-airflow-providers-microsoft-azure) (1.1.3)\n",
            "Requirement already satisfied: marshmallow<4,>=3 in /usr/local/lib/python3.7/dist-packages (from flask-appbuilder<4.0.0,>=3.3.2->apache-airflow>=2.1.0->apache-airflow-providers-microsoft-azure) (3.13.0)\n",
            "Requirement already satisfied: marshmallow-sqlalchemy<0.24.0,>=0.22.0 in /usr/local/lib/python3.7/dist-packages (from flask-appbuilder<4.0.0,>=3.3.2->apache-airflow>=2.1.0->apache-airflow-providers-microsoft-azure) (0.23.1)\n",
            "Requirement already satisfied: marshmallow-enum<2,>=1.5.1 in /usr/local/lib/python3.7/dist-packages (from flask-appbuilder<4.0.0,>=3.3.2->apache-airflow>=2.1.0->apache-airflow-providers-microsoft-azure) (1.5.1)\n",
            "Requirement already satisfied: prison<1.0.0,>=0.2.1 in /usr/local/lib/python3.7/dist-packages (from flask-appbuilder<4.0.0,>=3.3.2->apache-airflow>=2.1.0->apache-airflow-providers-microsoft-azure) (0.2.1)\n",
            "Requirement already satisfied: colorama<1,>=0.3.9 in /usr/local/lib/python3.7/dist-packages (from flask-appbuilder<4.0.0,>=3.3.2->apache-airflow>=2.1.0->apache-airflow-providers-microsoft-azure) (0.4.4)\n",
            "Requirement already satisfied: apispec[yaml]<4,>=3.3 in /usr/local/lib/python3.7/dist-packages (from flask-appbuilder<4.0.0,>=3.3.2->apache-airflow>=2.1.0->apache-airflow-providers-microsoft-azure) (3.3.2)\n",
            "Requirement already satisfied: idna>=2.0.0 in /usr/local/lib/python3.7/dist-packages (from email-validator<2,>=1.0.5->flask-appbuilder<4.0.0,>=3.3.2->apache-airflow>=2.1.0->apache-airflow-providers-microsoft-azure) (2.10)\n",
            "Requirement already satisfied: dnspython>=1.15.0 in /usr/local/lib/python3.7/dist-packages (from email-validator<2,>=1.0.5->flask-appbuilder<4.0.0,>=3.3.2->apache-airflow>=2.1.0->apache-airflow-providers-microsoft-azure) (2.1.0)\n",
            "Requirement already satisfied: pytz in /usr/local/lib/python3.7/dist-packages (from Flask-Babel<2,>=1->flask-appbuilder<4.0.0,>=3.3.2->apache-airflow>=2.1.0->apache-airflow-providers-microsoft-azure) (2018.9)\n",
            "Requirement already satisfied: Babel>=2.3 in /usr/local/lib/python3.7/dist-packages (from Flask-Babel<2,>=1->flask-appbuilder<4.0.0,>=3.3.2->apache-airflow>=2.1.0->apache-airflow-providers-microsoft-azure) (2.9.1)\n",
            "Requirement already satisfied: WTForms in /usr/local/lib/python3.7/dist-packages (from flask-wtf<0.15,>=0.14.3->apache-airflow>=2.1.0->apache-airflow-providers-microsoft-azure) (2.3.3)\n",
            "Requirement already satisfied: setuptools>=3.0 in /usr/local/lib/python3.7/dist-packages (from gunicorn>=19.5.0->apache-airflow>=2.1.0->apache-airflow-providers-microsoft-azure) (57.4.0)\n",
            "Requirement already satisfied: zipp>=0.5 in /usr/local/lib/python3.7/dist-packages (from importlib-metadata>=1.7->apache-airflow>=2.1.0->apache-airflow-providers-microsoft-azure) (3.5.0)\n",
            "Requirement already satisfied: pyrsistent>=0.14.0 in /usr/local/lib/python3.7/dist-packages (from jsonschema~=3.0->apache-airflow>=2.1.0->apache-airflow-providers-microsoft-azure) (0.18.0)\n",
            "Collecting portalocker~=1.0\n",
            "  Downloading portalocker-1.7.1-py2.py3-none-any.whl (10 kB)\n",
            "Requirement already satisfied: certifi>=2017.4.17 in /usr/local/lib/python3.7/dist-packages (from msrest>=0.6.21->azure-batch>=8.0.0->apache-airflow-providers-microsoft-azure) (2021.5.30)\n",
            "Requirement already satisfied: isodate>=0.6.0 in /usr/local/lib/python3.7/dist-packages (from msrest>=0.6.21->azure-batch>=8.0.0->apache-airflow-providers-microsoft-azure) (0.6.0)\n",
            "Requirement already satisfied: requests-oauthlib>=0.5.0 in /usr/local/lib/python3.7/dist-packages (from msrest>=0.6.21->azure-batch>=8.0.0->apache-airflow-providers-microsoft-azure) (1.3.0)\n",
            "Requirement already satisfied: openapi-schema-validator in /usr/local/lib/python3.7/dist-packages (from openapi-spec-validator>=0.2.4->apache-airflow>=2.1.0->apache-airflow-providers-microsoft-azure) (0.1.5)\n",
            "Requirement already satisfied: pytzdata>=2020.1 in /usr/local/lib/python3.7/dist-packages (from pendulum~=2.0->apache-airflow>=2.1.0->apache-airflow-providers-microsoft-azure) (2020.1)\n",
            "Requirement already satisfied: text-unidecode>=1.3 in /usr/local/lib/python3.7/dist-packages (from python-slugify<5.0,>=3.0.0->apache-airflow>=2.1.0->apache-airflow-providers-microsoft-azure) (1.3)\n",
            "Requirement already satisfied: defusedxml in /usr/local/lib/python3.7/dist-packages (from python3-openid~=3.2->apache-airflow>=2.1.0->apache-airflow-providers-microsoft-azure) (0.7.1)\n",
            "Requirement already satisfied: charset-normalizer~=2.0.0 in /usr/local/lib/python3.7/dist-packages (from requests>=2.10.0->azure-cosmos<4,>=3.0.1->apache-airflow-providers-microsoft-azure) (2.0.6)\n",
            "Requirement already satisfied: urllib3<1.27,>=1.21.1 in /usr/local/lib/python3.7/dist-packages (from requests>=2.10.0->azure-cosmos<4,>=3.0.1->apache-airflow-providers-microsoft-azure) (1.24.3)\n",
            "Requirement already satisfied: oauthlib>=3.0.0 in /usr/local/lib/python3.7/dist-packages (from requests-oauthlib>=0.5.0->msrest>=0.6.21->azure-batch>=8.0.0->apache-airflow-providers-microsoft-azure) (3.1.1)\n",
            "Requirement already satisfied: commonmark<0.10.0,>=0.9.0 in /usr/local/lib/python3.7/dist-packages (from rich>=9.2.0->apache-airflow>=2.1.0->apache-airflow-providers-microsoft-azure) (0.9.1)\n",
            "Requirement already satisfied: sniffio in /usr/local/lib/python3.7/dist-packages (from httpx->apache-airflow>=2.1.0->apache-airflow-providers-microsoft-azure) (1.2.0)\n",
            "Requirement already satisfied: rfc3986[idna2008]<2,>=1.3 in /usr/local/lib/python3.7/dist-packages (from httpx->apache-airflow>=2.1.0->apache-airflow-providers-microsoft-azure) (1.5.0)\n",
            "Requirement already satisfied: httpcore<0.14.0,>=0.13.3 in /usr/local/lib/python3.7/dist-packages (from httpx->apache-airflow>=2.1.0->apache-airflow-providers-microsoft-azure) (0.13.7)\n",
            "Requirement already satisfied: h11<0.13,>=0.11 in /usr/local/lib/python3.7/dist-packages (from httpcore<0.14.0,>=0.13.3->httpx->apache-airflow>=2.1.0->apache-airflow-providers-microsoft-azure) (0.12.0)\n",
            "Requirement already satisfied: anyio==3.* in /usr/local/lib/python3.7/dist-packages (from httpcore<0.14.0,>=0.13.3->httpx->apache-airflow>=2.1.0->apache-airflow-providers-microsoft-azure) (3.3.2)\n",
            "Installing collected packages: azure-nspkg, portalocker, msrest, msal, azure-mgmt-nspkg, azure-core, azure-common, adal, msrestazure, msal-extensions, azure-storage-common, azure-mgmt-datalake-nspkg, azure-mgmt-core, azure-keyvault-secrets, azure-keyvault-keys, azure-keyvault-certificates, azure-storage-file, azure-storage-blob, azure-mgmt-resource, azure-mgmt-datalake-store, azure-mgmt-datafactory, azure-mgmt-containerinstance, azure-kusto-data, azure-keyvault, azure-identity, azure-datalake-store, azure-cosmos, azure-batch, apache-airflow-providers-microsoft-azure\n",
            "Successfully installed adal-1.2.7 apache-airflow-providers-microsoft-azure-3.1.1 azure-batch-11.0.0 azure-common-1.1.27 azure-core-1.18.0 azure-cosmos-3.2.0 azure-datalake-store-0.0.52 azure-identity-1.6.1 azure-keyvault-4.1.0 azure-keyvault-certificates-4.3.0 azure-keyvault-keys-4.4.0 azure-keyvault-secrets-4.3.0 azure-kusto-data-0.0.45 azure-mgmt-containerinstance-1.5.0 azure-mgmt-core-1.3.0 azure-mgmt-datafactory-1.1.0 azure-mgmt-datalake-nspkg-3.0.1 azure-mgmt-datalake-store-0.5.0 azure-mgmt-nspkg-3.0.2 azure-mgmt-resource-20.0.0 azure-nspkg-3.0.2 azure-storage-blob-12.9.0 azure-storage-common-2.1.0 azure-storage-file-2.1.0 msal-1.14.0 msal-extensions-0.3.0 msrest-0.6.21 msrestazure-0.6.4 portalocker-1.7.1\n"
          ]
        },
        {
          "output_type": "display_data",
          "data": {
            "application/vnd.colab-display-data+json": {
              "pip_warning": {
                "packages": [
                  "airflow"
                ]
              }
            }
          },
          "metadata": {}
        }
      ]
    },
    {
      "cell_type": "code",
      "metadata": {
        "colab": {
          "base_uri": "https://localhost:8080/"
        },
        "id": "yTa-nqUlX9WO",
        "outputId": "268886fe-11a4-4402-8f30-f122cde1afa0"
      },
      "source": [
        "from airflow import DAG\n",
        "from datetime import datetime, timedelta\n",
        "from airflow.operators.email_operator import EmailOperator\n",
        "from airflow.operators.python_operator import PythonOperator\n",
        "from airflow.providers.microsoft.azure.hooks.azure_data_factory import AzureDataFactoryHook\n",
        "from airflow.providers.microsoft.azure.hooks.wasb import WasbHook\n",
        "\n",
        "#Get yest date in the correct format\n",
        "yesterday_date = '{{yesterday_ds_nodash}}'\n",
        "\n",
        "#Define Great Expectation file paths\n",
        "data_dir = 'usr/local/airflow/include/data'\n",
        "data_file_path = 'usr/local/airflow/include/data'\n",
        "ge_root_dir = 'usr/local/airflow/include/great_expectations'\n",
        "\n",
        "def run_adf_pipeline(pipeline_name, data):\n",
        "  params = {}\n",
        "  params[\"date\"] = date\n",
        "\n",
        "  hook = AzureDataFactoryHook('connection_string')\n",
        "  hook.run_pipeline(pipeline_name, parameters = params)\n",
        "\n",
        "def get_azure_blob_files(blobname, output_filename):\n",
        "\n",
        "  azure = WasbHook(wasb_conn_id='azure_blob')\n",
        "  azure.get_file(output_filename, container_name = 'data', blob_name = blobname)\n",
        "\n",
        "default_args={\n",
        "    'owner' : 'airflow',\n",
        "    'depends_on_past' : False,\n",
        "    'email_on_failure': False,\n",
        "    'email_on_retry' : False,\n",
        "    'retries' : 0,\n",
        "    'retry_delay' : timedelta(minutes=5),\n",
        "}\n",
        "\n",
        "with DAG('adi_great_expectations',\n",
        "         start_date = datetime(2021, 1, 1),\n",
        "         max_active_runs = 1,\n",
        "         schedule_interval = '@daily',\n",
        "         default_args = default_args,\n",
        "         catchup = False) as dag:\n",
        "\n",
        "         run_pipeline = PythonOperator(\n",
        "             task_id = 'run_pipeline',\n",
        "             python_callable = run_adf_pipeline,\n",
        "             op_kwargs={'pipeline_name' : 'pipeline1', 'date' : yesterday_date}\n",
        "         )\n",
        "\n",
        "         download_data = PythonOperator(\n",
        "             task_id = 'download_data',\n",
        "             python_callable = get_azure_blob_files,\n",
        "             op_kwargs = {'blobname' : 'or/' + yesterday_date +'.csv', 'output_filename': data_file_path+'or_'+yesterday_date+'.csv'}\n",
        "         )\n",
        "\n",
        "         send_email = EmailOperator(\n",
        "             task_id = 'send_email',\n",
        "             to='noreply@astronomer.io',\n",
        "             subject = 'S3 DAG',\n",
        "             html_content = '<p> The great expectations checks passed successfully. <p>'\n",
        "         )\n",
        "\n",
        "run_pipeline>>download_data>>send_email"
      ],
      "execution_count": null,
      "outputs": [
        {
          "output_type": "execute_result",
          "data": {
            "text/plain": [
              "<Task(EmailOperator): send_email>"
            ]
          },
          "metadata": {},
          "execution_count": 4
        }
      ]
    },
    {
      "cell_type": "code",
      "metadata": {
        "colab": {
          "base_uri": "https://localhost:8080/"
        },
        "id": "Lmpc34GXv15G",
        "outputId": "657ae9d9-bea7-42c1-db4f-519083e7696a"
      },
      "source": [
        "#API\n",
        "\n",
        "from airflow.operators.dummy_operator import DummyOperator\n",
        "from airflow.operators.python_operator import PythonOperator\n",
        "from datetime import datetime, timedelta\n",
        "import time\n",
        "import requests\n",
        "\n",
        "def api_function(*kwargs):\n",
        "\n",
        "  url = 'https://covidtracking.com/api/v1/stats/'\n",
        "  filename = '{0}/{1}.csv'.format('wa', '2020-03-31')\n",
        "  res=requests.get(url+filename)\n",
        "\n",
        "with DAG('pool_dag',\n",
        "         start_date = datetime(2021,8,21),\n",
        "         schedule_interval=timedelta(minutes=30),\n",
        "         catchup=False,\n",
        "         default_args={\n",
        "             'retries' : 1,\n",
        "             'retry_delay' : timedelta(minutes = 5)\n",
        "         }) as dag:\n",
        "\n",
        "         task_w = DummyOperator(\n",
        "             task_id = 'start'\n",
        "         )\n",
        "\n",
        "         task_x = PythonOperator(\n",
        "             task_id = 'task_y',\n",
        "             python_callable = api_function,\n",
        "             pool = 'api_pool'\n",
        "         )\n",
        "\n",
        "task_w>> task_x"
      ],
      "execution_count": null,
      "outputs": [
        {
          "output_type": "execute_result",
          "data": {
            "text/plain": [
              "<Task(PythonOperator): task_y>"
            ]
          },
          "metadata": {},
          "execution_count": 6
        }
      ]
    },
    {
      "cell_type": "code",
      "metadata": {
        "colab": {
          "base_uri": "https://localhost:8080/"
        },
        "id": "kXdELVMd2zvF",
        "outputId": "d7870ab4-6b50-4e8f-d957-14626a1fd0ba"
      },
      "source": [
        "#SLA DAG\n",
        "\n",
        "from airflow import DAG\n",
        "from airflow.operators.dummy_operator import DummyOperator\n",
        "from airflow.operators.python_operator import PythonOperator\n",
        "from datetime import datetime, timedelta\n",
        "import time\n",
        "\n",
        "\n",
        "def my_custom_functions(ts, *kwargs):\n",
        "  print(\"task is sleeping\")\n",
        "  time.sleep(40)\n",
        "\n",
        "default_args = {\n",
        "    'owner' : 'airflow',\n",
        "    'depends_on_past' : False,\n",
        "    'email_on_failure': True,\n",
        "    'email' : 'mail@abc.com',\n",
        "    'email_on_retry' : False,\n",
        "    'sla' : timedelta(seconds=30),\n",
        "}\n",
        "\n",
        "with DAG('sla-dag',\n",
        "         start_date = datetime(2021, 1, 1),\n",
        "         max_active_runs = 1,\n",
        "         schedule_interval = timedelta(minutes=2),\n",
        "         default_args=default_args,\n",
        "         catchup = False\n",
        ") as dag:\n",
        "\n",
        "  t0= DummyOperator(\n",
        "    task_id = 'start'\n",
        ")\n",
        "\n",
        "  t1 = DummyOperator(\n",
        "    task_id = 'end'\n",
        ")\n",
        "\n",
        "  sla_task = PythonOperator(\n",
        "    task_id = 'sla_task',\n",
        "    python_callable=my_custom_functions\n",
        ")\n",
        "\n",
        "t0 >>sla_task>>t1\n"
      ],
      "execution_count": null,
      "outputs": [
        {
          "output_type": "execute_result",
          "data": {
            "text/plain": [
              "<Task(DummyOperator): end>"
            ]
          },
          "metadata": {},
          "execution_count": 8
        }
      ]
    }
  ]
}